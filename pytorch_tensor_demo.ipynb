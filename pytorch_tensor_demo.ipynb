{
 "cells": [
  {
   "cell_type": "code",
   "execution_count": 1,
   "metadata": {},
   "outputs": [],
   "source": [
    "# PyTorch向量demo\n",
    "# 导入模块\n",
    "import torch as T\n",
    "import numpy as np"
   ]
  },
  {
   "cell_type": "code",
   "execution_count": 3,
   "metadata": {},
   "outputs": [
    {
     "name": "stdout",
     "output_type": "stream",
     "text": [
      "False\n",
      "False\n"
     ]
    }
   ],
   "source": [
    "# 检测是否为PyTorch中的向量（Tensor）\n",
    "x = [12, 23, 34, 45, 56, 67, 78, 89]\n",
    "# checks whether the object is a tensor object\n",
    "print(T.is_tensor(x))\n",
    "# checks whether the object is stored as tensor object\n",
    "print(T.is_storage(x))"
   ]
  },
  {
   "cell_type": "code",
   "execution_count": 4,
   "metadata": {},
   "outputs": [
    {
     "name": "stdout",
     "output_type": "stream",
     "text": [
      "tensor([[[-0.4199, -0.4139,  0.6227],\n",
      "         [-0.6734, -0.8894,  0.3225]]])\n",
      "True\n",
      "False\n",
      "torch.Size([1, 2, 3])\n",
      "6\n"
     ]
    }
   ],
   "source": [
    "y = T.randn(1, 2, 3)\n",
    "print(y)\n",
    "print(T.is_tensor(y))\n",
    "print(T.is_storage(y))\n",
    "# size of tensor\n",
    "print(y.size())\n",
    "# the total number of elements in the input tensor\n",
    "print(T.numel(y))"
   ]
  },
  {
   "cell_type": "code",
   "execution_count": 5,
   "metadata": {},
   "outputs": [
    {
     "name": "stdout",
     "output_type": "stream",
     "text": [
      "tensor([[0., 0., 0., 0.],\n",
      "        [0., 0., 0., 0.],\n",
      "        [0., 0., 0., 0.],\n",
      "        [0., 0., 0., 0.]])\n",
      "torch.Size([4, 4])\n",
      "16\n"
     ]
    }
   ],
   "source": [
    "# zeros函数\n",
    "z = T.zeros(4, 4)\n",
    "print(z)\n",
    "print(z.size())\n",
    "print(T.numel(z))"
   ]
  },
  {
   "cell_type": "code",
   "execution_count": 6,
   "metadata": {},
   "outputs": [
    {
     "name": "stdout",
     "output_type": "stream",
     "text": [
      "tensor([[1., 0., 0., 0.],\n",
      "        [0., 1., 0., 0.],\n",
      "        [0., 0., 1., 0.]])\n",
      "torch.Size([3, 4])\n",
      "12\n",
      "tensor([[1., 0., 0., 0.],\n",
      "        [0., 1., 0., 0.],\n",
      "        [0., 0., 1., 0.],\n",
      "        [0., 0., 0., 1.],\n",
      "        [0., 0., 0., 0.]])\n",
      "torch.Size([5, 4])\n",
      "20\n"
     ]
    }
   ],
   "source": [
    "# eye函数\n",
    "w1 = T.eye(3, 4)\n",
    "print(w1)\n",
    "print(w1.size())\n",
    "print(T.numel(w1))\n",
    "w2 = T.eye(5, 4)\n",
    "print(w2)\n",
    "print(w2.size())\n",
    "print(T.numel(w2))"
   ]
  },
  {
   "cell_type": "code",
   "execution_count": 8,
   "metadata": {},
   "outputs": [
    {
     "name": "stdout",
     "output_type": "stream",
     "text": [
      "tensor([12, 23, 34, 45, 56, 67, 78, 89])\n",
      "True\n",
      "False\n"
     ]
    }
   ],
   "source": [
    "# Torch can read from a NumPy array format, not list\n",
    "x1 = np.array(x)\n",
    "t = T.from_numpy(x1)\n",
    "print(t)\n",
    "print(T.is_tensor(t))\n",
    "print(T.is_storage(t))"
   ]
  },
  {
   "cell_type": "code",
   "execution_count": 9,
   "metadata": {},
   "outputs": [
    {
     "name": "stdout",
     "output_type": "stream",
     "text": [
      "tensor([12, 23, 34, 45, 56, 67, 78, 89])\n",
      "<class 'torch.Tensor'>\n",
      "<class 'torch.Tensor'>\n",
      "[12 23 34 45 56 67 78 89]\n",
      "<class 'numpy.ndarray'>\n"
     ]
    }
   ],
   "source": [
    "# Torch Tensor convert to numpy.ndarrays\n",
    "print(t.data)\n",
    "print(type(t))\n",
    "print(type(t.data))\n",
    "x2 = t.numpy()\n",
    "print(x2)\n",
    "print(type(x2))"
   ]
  },
  {
   "cell_type": "code",
   "execution_count": 10,
   "metadata": {},
   "outputs": [
    {
     "name": "stdout",
     "output_type": "stream",
     "text": [
      "tensor([[1., 2., 3.],\n",
      "        [4., 5., 6.]])\n",
      "True\n",
      "False\n"
     ]
    }
   ],
   "source": [
    "# 利用Tensor函数构建tensor\n",
    "tensor1 = T.Tensor([[1, 2, 3], [4, 5, 6]])\n",
    "print(tensor1)\n",
    "print(T.is_tensor(tensor1))\n",
    "print(T.is_storage(tensor1))"
   ]
  },
  {
   "cell_type": "code",
   "execution_count": 11,
   "metadata": {},
   "outputs": [
    {
     "name": "stdout",
     "output_type": "stream",
     "text": [
      "tensor([ 2.,  3.,  4.,  5.,  6.,  7.,  8.,  9., 10.])\n",
      "tensor([1.0000e-10, 1.0000e-05, 1.0000e+00, 1.0000e+05, 1.0000e+10])\n"
     ]
    }
   ],
   "source": [
    "# linspace in pytorch\n",
    "print(T.linspace(2, 10, steps=9))\n",
    "# logarithmic spacing\n",
    "print(T.logspace(start=-10, end=10, steps=5))"
   ]
  },
  {
   "cell_type": "code",
   "execution_count": 13,
   "metadata": {},
   "outputs": [
    {
     "name": "stdout",
     "output_type": "stream",
     "text": [
      "tensor([0.6654, 0.0334, 0.3522, 0.2388, 0.1594, 0.5571, 0.5282, 0.0241, 0.7410,\n",
      "        0.6273])\n",
      "tensor([[0.3108, 0.5514, 0.3539, 0.2441, 0.0871],\n",
      "        [0.9125, 0.6161, 0.4074, 0.6260, 0.7564],\n",
      "        [0.7621, 0.4389, 0.6552, 0.9586, 0.2361],\n",
      "        [0.9228, 0.2407, 0.4747, 0.5336, 0.2194]])\n"
     ]
    }
   ],
   "source": [
    "# random numbers from a uniform distribution between the values 0 and 1\n",
    "print(T.rand(10))\n",
    "print(T.rand(4, 5))"
   ]
  },
  {
   "cell_type": "code",
   "execution_count": 14,
   "metadata": {},
   "outputs": [
    {
     "name": "stdout",
     "output_type": "stream",
     "text": [
      "tensor([5, 2, 1, 4, 0, 3])\n",
      "tensor([2, 7, 6, 4, 0, 5, 3, 1])\n"
     ]
    }
   ],
   "source": [
    "# selecting values from a range, called random permutation\n",
    "print(T.randperm(6))\n",
    "print(T.randperm(8))"
   ]
  },
  {
   "cell_type": "code",
   "execution_count": 16,
   "metadata": {},
   "outputs": [
    {
     "name": "stdout",
     "output_type": "stream",
     "text": [
      "tensor([10, 11, 12, 13, 14, 15, 16, 17, 18, 19])\n",
      "tensor([10, 13, 16, 19, 22, 25, 28])\n"
     ]
    }
   ],
   "source": [
    "# usage of range function\n",
    "print(T.arange(10, 20))\n",
    "print(T.arange(10, 30, 3))"
   ]
  },
  {
   "cell_type": "code",
   "execution_count": 18,
   "metadata": {},
   "outputs": [
    {
     "name": "stdout",
     "output_type": "stream",
     "text": [
      "tensor([[-0.2512,  1.4601,  0.9010,  0.7730, -0.7425],\n",
      "        [-0.6755, -0.5227, -0.5243, -0.4742, -0.0601],\n",
      "        [-0.5485, -0.9667,  0.2066, -0.7650, -1.0527],\n",
      "        [-1.6763,  1.5784, -0.5299,  0.0463, -0.8977]])\n",
      "tensor([3, 2, 3, 2, 2])\n",
      "tensor([1, 4, 2, 1])\n"
     ]
    }
   ],
   "source": [
    "# find maximum and minimum of tensor\n",
    "d = T.randn(4, 5)\n",
    "print(d)\n",
    "# dim: 0 means along the column, 1 row\n",
    "print(T.argmin(d, dim=0))\n",
    "print(T.argmax(d, dim=1))"
   ]
  },
  {
   "cell_type": "code",
   "execution_count": 19,
   "metadata": {},
   "outputs": [
    {
     "name": "stdout",
     "output_type": "stream",
     "text": [
      "tensor([[-0.7261, -0.8325,  1.2299,  0.7616],\n",
      "        [-0.4920,  0.5611,  1.2690,  0.1944],\n",
      "        [-0.7799, -0.1575,  0.1591,  1.5869],\n",
      "        [ 1.8982,  0.3544,  1.2835,  0.5460],\n",
      "        [-0.3167,  1.4114,  0.0480, -1.7889]])\n"
     ]
    }
   ],
   "source": [
    "# concatenate two tensors\n",
    "t1 = T.randn(2, 4)\n",
    "t2 = T.randn(3, 4)\n",
    "print(T.cat((t1, t2)))"
   ]
  },
  {
   "cell_type": "code",
   "execution_count": 21,
   "metadata": {},
   "outputs": [
    {
     "name": "stdout",
     "output_type": "stream",
     "text": [
      "tensor([[-2.5663,  0.6231, -0.4205, -1.3815, -0.1627,  0.4648],\n",
      "        [ 0.2757, -0.1346,  0.7227,  0.8774,  0.2984,  0.8735],\n",
      "        [-0.3269,  0.4889, -0.3513,  0.0331,  0.4255,  0.5229],\n",
      "        [-0.8490,  0.1852,  1.0790, -1.6085, -0.9337, -1.3909]])\n",
      "(tensor([[-2.5663,  0.6231, -0.4205, -1.3815, -0.1627,  0.4648],\n",
      "        [ 0.2757, -0.1346,  0.7227,  0.8774,  0.2984,  0.8735]]), tensor([[-0.3269,  0.4889, -0.3513,  0.0331,  0.4255,  0.5229],\n",
      "        [-0.8490,  0.1852,  1.0790, -1.6085, -0.9337, -1.3909]]))\n",
      "(tensor([[-2.5663,  0.6231],\n",
      "        [ 0.2757, -0.1346],\n",
      "        [-0.3269,  0.4889],\n",
      "        [-0.8490,  0.1852]]), tensor([[-0.4205, -1.3815],\n",
      "        [ 0.7227,  0.8774],\n",
      "        [-0.3513,  0.0331],\n",
      "        [ 1.0790, -1.6085]]), tensor([[-0.1627,  0.4648],\n",
      "        [ 0.2984,  0.8735],\n",
      "        [ 0.4255,  0.5229],\n",
      "        [-0.9337, -1.3909]]))\n"
     ]
    }
   ],
   "source": [
    "# A tensor can be split between multiple chunks\n",
    "a = T.randn(4, 6)\n",
    "print(a)\n",
    "# 0 means row, 1 column, default: 0\n",
    "print(T.chunk(a, 2, 0))\n",
    "print(T.chunk(a, 3, 1))"
   ]
  },
  {
   "cell_type": "code",
   "execution_count": 23,
   "metadata": {},
   "outputs": [
    {
     "name": "stdout",
     "output_type": "stream",
     "text": [
      "tensor([[11., 11.],\n",
      "        [24., 23.]])\n"
     ]
    }
   ],
   "source": [
    "# The gather function collects elements from a tensor and places it in another tensor using an index argument.\n",
    "# The index position is determined by the LongTensor function in PyTorch.\n",
    "b = T.gather(T.Tensor([[11, 12], [23, 24]]), 1, T.LongTensor([[0, 0], [1, 0]]))\n",
    "print(b)"
   ]
  },
  {
   "cell_type": "code",
   "execution_count": 24,
   "metadata": {},
   "outputs": [
    {
     "name": "stdout",
     "output_type": "stream",
     "text": [
      "tensor([[-1.0463,  0.8661, -0.6331, -0.5752],\n",
      "        [-0.8758, -0.2882,  0.2911, -1.9206],\n",
      "        [-0.7444, -0.3329,  0.0287, -0.2793],\n",
      "        [-1.2515, -2.5879,  0.3839,  0.2269]])\n",
      "tensor([[-1.0463,  0.8661, -0.6331, -0.5752],\n",
      "        [-0.7444, -0.3329,  0.0287, -0.2793]])\n",
      "tensor([[-1.0463, -0.6331],\n",
      "        [-0.8758,  0.2911],\n",
      "        [-0.7444,  0.0287],\n",
      "        [-1.2515,  0.3839]])\n"
     ]
    }
   ],
   "source": [
    "# The LongTensor function or the index select function can be used to fetch relevant values from a tensor.\n",
    "c = T.randn(4, 4)\n",
    "print(c)\n",
    "indices = T.LongTensor([0, 2])\n",
    "print(T.index_select(c, 0, indices))\n",
    "print(T.index_select(c, 1, indices))"
   ]
  },
  {
   "cell_type": "code",
   "execution_count": 25,
   "metadata": {},
   "outputs": [
    {
     "name": "stdout",
     "output_type": "stream",
     "text": [
      "tensor([[0],\n",
      "        [2],\n",
      "        [4]])\n"
     ]
    }
   ],
   "source": [
    "# identify non-zero elements in a tensor\n",
    "print(T.nonzero(T.Tensor([10, 0, 23, 0, 20, 0])))"
   ]
  },
  {
   "cell_type": "code",
   "execution_count": 26,
   "metadata": {},
   "outputs": [
    {
     "name": "stdout",
     "output_type": "stream",
     "text": [
      "(tensor([12., 21.]), tensor([34., 32.]), tensor([45., 54.]), tensor([56., 65.]))\n",
      "(tensor([12., 21., 34.]), tensor([32., 45., 54.]), tensor([56., 65.]))\n"
     ]
    }
   ],
   "source": [
    "# splitting the tensor into small chunks\n",
    "print(T.split(T.Tensor([12, 21, 34, 32, 45, 54, 56, 65]), 2))\n",
    "print(T.split(T.Tensor([12, 21, 34, 32, 45, 54, 56, 65]), 3))"
   ]
  },
  {
   "cell_type": "code",
   "execution_count": 27,
   "metadata": {},
   "outputs": [
    {
     "name": "stdout",
     "output_type": "stream",
     "text": [
      "tensor([[ 0.8518,  0.1776, -0.5511],\n",
      "        [ 0.1719, -1.2110,  0.4988]])\n",
      "tensor([[ 0.8518,  0.1719],\n",
      "        [ 0.1776, -1.2110],\n",
      "        [-0.5511,  0.4988]])\n",
      "tensor([[ 0.8518,  0.1719],\n",
      "        [ 0.1776, -1.2110],\n",
      "        [-0.5511,  0.4988]])\n"
     ]
    }
   ],
   "source": [
    "# transpose\n",
    "e = T.randn(2, 3)\n",
    "print(e)\n",
    "print(e.t())\n",
    "print(e.transpose(1, 0))"
   ]
  },
  {
   "cell_type": "code",
   "execution_count": 28,
   "metadata": {},
   "outputs": [
    {
     "name": "stdout",
     "output_type": "stream",
     "text": [
      "tensor([[-1.9928,  0.0541,  1.7332],\n",
      "        [ 1.8179, -0.5556, -0.6515]])\n",
      "(tensor([-1.9928,  1.8179]), tensor([ 0.0541, -0.5556]), tensor([ 1.7332, -0.6515]))\n",
      "(tensor([-1.9928,  0.0541,  1.7332]), tensor([ 1.8179, -0.5556, -0.6515]))\n"
     ]
    }
   ],
   "source": [
    "# unbind:  removes a dimension from a tensor\n",
    "# 0 row, 1 column, default: 0\n",
    "f = T.randn(2, 3)\n",
    "print(f)\n",
    "print(T.unbind(f, 1))\n",
    "print(T.unbind(f, 0))"
   ]
  },
  {
   "cell_type": "code",
   "execution_count": 30,
   "metadata": {},
   "outputs": [
    {
     "name": "stdout",
     "output_type": "stream",
     "text": [
      "tensor([[ 0.0461,  0.4024, -1.0115],\n",
      "        [ 0.2167, -0.6123,  0.5036]])\n"
     ]
    }
   ],
   "source": [
    "# math function\n",
    "T.manual_seed(1234)\n",
    "g = T.randn(2, 3)\n",
    "print(g)"
   ]
  },
  {
   "cell_type": "code",
   "execution_count": 31,
   "metadata": {},
   "outputs": [
    {
     "data": {
      "text/plain": [
       "tensor([[20.0461, 20.4024, 18.9885],\n",
       "        [20.2167, 19.3877, 20.5036]])"
      ]
     },
     "execution_count": 31,
     "metadata": {},
     "output_type": "execute_result"
    }
   ],
   "source": [
    "# add function\n",
    "T.add(g, 20)"
   ]
  },
  {
   "cell_type": "code",
   "execution_count": 34,
   "metadata": {},
   "outputs": [
    {
     "data": {
      "text/plain": [
       "tensor([[ 1.,  1., -1.],\n",
       "        [ 1., -0.,  1.]])"
      ]
     },
     "execution_count": 34,
     "metadata": {},
     "output_type": "execute_result"
    }
   ],
   "source": [
    "# ceil function\n",
    "T.ceil(g)"
   ]
  },
  {
   "cell_type": "code",
   "execution_count": 35,
   "metadata": {},
   "outputs": [
    {
     "data": {
      "text/plain": [
       "tensor([[ 0.,  0., -2.],\n",
       "        [ 0., -1.,  0.]])"
      ]
     },
     "execution_count": 35,
     "metadata": {},
     "output_type": "execute_result"
    }
   ],
   "source": [
    "# floor function\n",
    "T.floor(g)"
   ]
  },
  {
   "cell_type": "code",
   "execution_count": 36,
   "metadata": {},
   "outputs": [
    {
     "data": {
      "text/plain": [
       "tensor([[1.0472, 1.4954, 0.3637],\n",
       "        [1.2420, 0.5421, 1.6547]])"
      ]
     },
     "execution_count": 36,
     "metadata": {},
     "output_type": "execute_result"
    }
   ],
   "source": [
    "# exp function\n",
    "T.exp(g)"
   ]
  },
  {
   "cell_type": "code",
   "execution_count": 37,
   "metadata": {},
   "outputs": [
    {
     "data": {
      "text/plain": [
       "tensor([[0.5115, 0.5993, 0.2667],\n",
       "        [0.5540, 0.3515, 0.6233]])"
      ]
     },
     "execution_count": 37,
     "metadata": {},
     "output_type": "execute_result"
    }
   ],
   "source": [
    "# sigmoid function\n",
    "T.sigmoid(g)"
   ]
  },
  {
   "cell_type": "code",
   "execution_count": 41,
   "metadata": {},
   "outputs": [
    {
     "name": "stdout",
     "output_type": "stream",
     "text": [
      "tensor([[1., 2.],\n",
      "        [3., 4.],\n",
      "        [5., 6.]])\n",
      "tensor([[ 1.,  4.],\n",
      "        [ 9., 16.],\n",
      "        [25., 36.]])\n",
      "tensor([[ 1.,  4.],\n",
      "        [ 9., 16.],\n",
      "        [25., 36.]])\n"
     ]
    }
   ],
   "source": [
    "# 矩阵的点乘, x.mul(y) 或者 x * y\n",
    "h = T.FloatTensor([[1,2], [3,4], [5, 6]])\n",
    "print(h)\n",
    "print(h.mul(h))\n",
    "print(h * h)"
   ]
  },
  {
   "cell_type": "code",
   "execution_count": 42,
   "metadata": {},
   "outputs": [
    {
     "name": "stdout",
     "output_type": "stream",
     "text": [
      "tensor([[ 5., 11., 17.],\n",
      "        [11., 25., 39.],\n",
      "        [17., 39., 61.]])\n"
     ]
    }
   ],
   "source": [
    "# 矩阵相乘, x.mm(y)\n",
    "print(h.mm(h.t()))"
   ]
  },
  {
   "cell_type": "code",
   "execution_count": null,
   "metadata": {},
   "outputs": [],
   "source": []
  }
 ],
 "metadata": {
  "kernelspec": {
   "display_name": "Python 3",
   "language": "python",
   "name": "python3"
  },
  "language_info": {
   "codemirror_mode": {
    "name": "ipython",
    "version": 3
   },
   "file_extension": ".py",
   "mimetype": "text/x-python",
   "name": "python",
   "nbconvert_exporter": "python",
   "pygments_lexer": "ipython3",
   "version": "3.6.3"
  }
 },
 "nbformat": 4,
 "nbformat_minor": 2
}
