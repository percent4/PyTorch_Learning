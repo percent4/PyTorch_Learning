{
 "cells": [
  {
   "cell_type": "code",
   "execution_count": 1,
   "metadata": {
    "ExecuteTime": {
     "end_time": "2023-03-15T05:21:15.074415Z",
     "start_time": "2023-03-15T05:21:13.774211Z"
    }
   },
   "outputs": [],
   "source": [
    "# PyTorch向量demo\n",
    "# 导入模块\n",
    "import torch as T\n",
    "import numpy as np"
   ]
  },
  {
   "cell_type": "code",
   "execution_count": 2,
   "metadata": {
    "ExecuteTime": {
     "end_time": "2023-03-15T05:21:19.053064Z",
     "start_time": "2023-03-15T05:21:19.036107Z"
    }
   },
   "outputs": [
    {
     "name": "stdout",
     "output_type": "stream",
     "text": [
      "False\n",
      "False\n"
     ]
    }
   ],
   "source": [
    "# 检测是否为PyTorch中的向量（Tensor）\n",
    "x = [12, 23, 34, 45, 56, 67, 78, 89]\n",
    "# checks whether the object is a tensor object\n",
    "print(T.is_tensor(x))\n",
    "# checks whether the object is stored as tensor object\n",
    "print(T.is_storage(x))"
   ]
  },
  {
   "cell_type": "code",
   "execution_count": 3,
   "metadata": {
    "ExecuteTime": {
     "end_time": "2023-03-15T05:21:20.016523Z",
     "start_time": "2023-03-15T05:21:19.949910Z"
    }
   },
   "outputs": [
    {
     "name": "stdout",
     "output_type": "stream",
     "text": [
      "tensor([[[-0.1136, -0.5851, -2.6308],\n",
      "         [ 0.1024,  0.5212, -0.8174]]])\n",
      "True\n",
      "False\n",
      "torch.Size([1, 2, 3])\n",
      "6\n"
     ]
    }
   ],
   "source": [
    "y = T.randn(1, 2, 3)\n",
    "print(y)\n",
    "print(T.is_tensor(y))\n",
    "print(T.is_storage(y))\n",
    "# size of tensor\n",
    "print(y.size())\n",
    "# the total number of elements in the input tensor\n",
    "print(T.numel(y))"
   ]
  },
  {
   "cell_type": "code",
   "execution_count": 4,
   "metadata": {
    "ExecuteTime": {
     "end_time": "2023-03-15T05:21:20.882933Z",
     "start_time": "2023-03-15T05:21:20.862987Z"
    }
   },
   "outputs": [
    {
     "name": "stdout",
     "output_type": "stream",
     "text": [
      "tensor([[0., 0., 0., 0.],\n",
      "        [0., 0., 0., 0.],\n",
      "        [0., 0., 0., 0.],\n",
      "        [0., 0., 0., 0.]])\n",
      "torch.Size([4, 4])\n",
      "16\n"
     ]
    }
   ],
   "source": [
    "# zeros函数\n",
    "z = T.zeros(4, 4)\n",
    "print(z)\n",
    "print(z.size())\n",
    "print(T.numel(z))"
   ]
  },
  {
   "cell_type": "code",
   "execution_count": 5,
   "metadata": {
    "ExecuteTime": {
     "end_time": "2023-03-15T05:21:21.776132Z",
     "start_time": "2023-03-15T05:21:21.755187Z"
    }
   },
   "outputs": [
    {
     "name": "stdout",
     "output_type": "stream",
     "text": [
      "tensor([[1., 0., 0., 0.],\n",
      "        [0., 1., 0., 0.],\n",
      "        [0., 0., 1., 0.]])\n",
      "torch.Size([3, 4])\n",
      "12\n",
      "tensor([[1., 0., 0., 0.],\n",
      "        [0., 1., 0., 0.],\n",
      "        [0., 0., 1., 0.],\n",
      "        [0., 0., 0., 1.],\n",
      "        [0., 0., 0., 0.]])\n",
      "torch.Size([5, 4])\n",
      "20\n"
     ]
    }
   ],
   "source": [
    "# eye函数\n",
    "w1 = T.eye(3, 4)\n",
    "print(w1)\n",
    "print(w1.size())\n",
    "print(T.numel(w1))\n",
    "w2 = T.eye(5, 4)\n",
    "print(w2)\n",
    "print(w2.size())\n",
    "print(T.numel(w2))"
   ]
  },
  {
   "cell_type": "code",
   "execution_count": 6,
   "metadata": {
    "ExecuteTime": {
     "end_time": "2023-03-15T05:21:22.808703Z",
     "start_time": "2023-03-15T05:21:22.803667Z"
    }
   },
   "outputs": [
    {
     "name": "stdout",
     "output_type": "stream",
     "text": [
      "tensor([12, 23, 34, 45, 56, 67, 78, 89], dtype=torch.int32)\n",
      "True\n",
      "False\n"
     ]
    }
   ],
   "source": [
    "# Torch can read from a NumPy array format, not list\n",
    "x1 = np.array(x)\n",
    "t = T.from_numpy(x1)\n",
    "print(t)\n",
    "print(T.is_tensor(t))\n",
    "print(T.is_storage(t))"
   ]
  },
  {
   "cell_type": "code",
   "execution_count": 7,
   "metadata": {
    "ExecuteTime": {
     "end_time": "2023-03-15T05:21:25.154360Z",
     "start_time": "2023-03-15T05:21:25.140386Z"
    }
   },
   "outputs": [
    {
     "name": "stdout",
     "output_type": "stream",
     "text": [
      "tensor([12, 23, 34, 45, 56, 67, 78, 89], dtype=torch.int32)\n",
      "<class 'torch.Tensor'>\n",
      "<class 'torch.Tensor'>\n",
      "[12 23 34 45 56 67 78 89]\n",
      "<class 'numpy.ndarray'>\n"
     ]
    }
   ],
   "source": [
    "# Torch Tensor convert to numpy.ndarrays\n",
    "print(t.data)\n",
    "print(type(t))\n",
    "print(type(t.data))\n",
    "x2 = t.numpy()\n",
    "print(x2)\n",
    "print(type(x2))"
   ]
  },
  {
   "cell_type": "code",
   "execution_count": 8,
   "metadata": {
    "ExecuteTime": {
     "end_time": "2023-03-15T05:21:27.347386Z",
     "start_time": "2023-03-15T05:21:27.339387Z"
    }
   },
   "outputs": [
    {
     "name": "stdout",
     "output_type": "stream",
     "text": [
      "tensor([[1., 2., 3.],\n",
      "        [4., 5., 6.]])\n",
      "True\n",
      "False\n"
     ]
    }
   ],
   "source": [
    "# 利用Tensor函数构建tensor\n",
    "tensor1 = T.Tensor([[1, 2, 3], [4, 5, 6]])\n",
    "print(tensor1)\n",
    "print(T.is_tensor(tensor1))\n",
    "print(T.is_storage(tensor1))"
   ]
  },
  {
   "cell_type": "code",
   "execution_count": 9,
   "metadata": {
    "ExecuteTime": {
     "end_time": "2023-03-15T05:21:59.524282Z",
     "start_time": "2023-03-15T05:21:59.501361Z"
    }
   },
   "outputs": [
    {
     "name": "stdout",
     "output_type": "stream",
     "text": [
      "tensor([ 2.,  3.,  4.,  5.,  6.,  7.,  8.,  9., 10.])\n",
      "tensor([1.0000e-10, 1.0000e-05, 1.0000e+00, 1.0000e+05, 1.0000e+10])\n"
     ]
    }
   ],
   "source": [
    "# linspace in pytorch\n",
    "print(T.linspace(2, 10, steps=9))\n",
    "# logarithmic spacing\n",
    "print(T.logspace(start=-10, end=10, steps=5))"
   ]
  },
  {
   "cell_type": "code",
   "execution_count": 10,
   "metadata": {
    "ExecuteTime": {
     "end_time": "2023-03-15T05:21:59.963700Z",
     "start_time": "2023-03-15T05:21:59.949738Z"
    }
   },
   "outputs": [
    {
     "name": "stdout",
     "output_type": "stream",
     "text": [
      "tensor([0.6592, 0.7289, 0.2897, 0.0683, 0.7685, 0.1479, 0.4261, 0.7441, 0.6307,\n",
      "        0.1431])\n",
      "tensor([[0.3558, 0.0859, 0.6212, 0.3092, 0.2453],\n",
      "        [0.8888, 0.2677, 0.1193, 0.3646, 0.6129],\n",
      "        [0.2085, 0.8565, 0.2590, 0.9823, 0.4127],\n",
      "        [0.6002, 0.0363, 0.8779, 0.0213, 0.9232]])\n"
     ]
    }
   ],
   "source": [
    "# random numbers from a uniform distribution between the values 0 and 1\n",
    "print(T.rand(10))\n",
    "print(T.rand(4, 5))"
   ]
  },
  {
   "cell_type": "code",
   "execution_count": 11,
   "metadata": {
    "ExecuteTime": {
     "end_time": "2023-03-15T05:22:00.480227Z",
     "start_time": "2023-03-15T05:22:00.472275Z"
    }
   },
   "outputs": [
    {
     "name": "stdout",
     "output_type": "stream",
     "text": [
      "tensor([0, 4, 5, 3, 2, 1])\n",
      "tensor([0, 5, 4, 6, 2, 1, 7, 3])\n"
     ]
    }
   ],
   "source": [
    "# selecting values from a range, called random permutation\n",
    "print(T.randperm(6))\n",
    "print(T.randperm(8))"
   ]
  },
  {
   "cell_type": "code",
   "execution_count": 12,
   "metadata": {
    "ExecuteTime": {
     "end_time": "2023-03-15T05:22:00.965788Z",
     "start_time": "2023-03-15T05:22:00.954836Z"
    }
   },
   "outputs": [
    {
     "name": "stdout",
     "output_type": "stream",
     "text": [
      "tensor([10, 11, 12, 13, 14, 15, 16, 17, 18, 19])\n",
      "tensor([10, 13, 16, 19, 22, 25, 28])\n"
     ]
    }
   ],
   "source": [
    "# usage of range function\n",
    "print(T.arange(10, 20))\n",
    "print(T.arange(10, 30, 3))"
   ]
  },
  {
   "cell_type": "code",
   "execution_count": 13,
   "metadata": {
    "ExecuteTime": {
     "end_time": "2023-03-15T05:22:01.434591Z",
     "start_time": "2023-03-15T05:22:01.421649Z"
    }
   },
   "outputs": [
    {
     "name": "stdout",
     "output_type": "stream",
     "text": [
      "tensor([[ 0.9217, -0.1068, -0.5859, -1.0494,  0.2641],\n",
      "        [-1.6827, -0.5163, -1.7808, -0.2379,  0.5144],\n",
      "        [ 1.9446,  0.3222, -1.3181,  1.0982,  1.8044],\n",
      "        [-1.7152,  0.6346,  1.4222, -1.9336, -0.0098]])\n",
      "tensor([3, 1, 1, 3, 3])\n",
      "tensor([0, 4, 0, 2])\n"
     ]
    }
   ],
   "source": [
    "# find maximum and minimum of tensor\n",
    "d = T.randn(4, 5)\n",
    "print(d)\n",
    "# dim: 0 means along the column, 1 row\n",
    "print(T.argmin(d, dim=0))\n",
    "print(T.argmax(d, dim=1))"
   ]
  },
  {
   "cell_type": "code",
   "execution_count": 14,
   "metadata": {
    "ExecuteTime": {
     "end_time": "2023-03-15T05:22:01.934764Z",
     "start_time": "2023-03-15T05:22:01.916815Z"
    }
   },
   "outputs": [
    {
     "name": "stdout",
     "output_type": "stream",
     "text": [
      "tensor([[-1.1295,  1.7040, -0.7701, -0.7643],\n",
      "        [-0.5417,  0.1874,  0.7582, -0.9736],\n",
      "        [ 0.4867,  1.0103, -1.7306, -0.0214],\n",
      "        [ 0.1821,  1.6806, -1.1346, -0.0921],\n",
      "        [ 0.9963,  0.1677,  0.5886, -0.7600]])\n"
     ]
    }
   ],
   "source": [
    "# concatenate two tensors\n",
    "t1 = T.randn(2, 4)\n",
    "t2 = T.randn(3, 4)\n",
    "print(T.cat((t1, t2)))"
   ]
  },
  {
   "cell_type": "code",
   "execution_count": 15,
   "metadata": {
    "ExecuteTime": {
     "end_time": "2023-03-15T05:22:02.406858Z",
     "start_time": "2023-03-15T05:22:02.380521Z"
    }
   },
   "outputs": [
    {
     "name": "stdout",
     "output_type": "stream",
     "text": [
      "tensor([[ 0.4041,  0.2816, -1.3620, -0.4796, -0.6298, -0.1119],\n",
      "        [-0.1132,  0.4680, -0.9488, -2.3916, -0.2324,  0.1824],\n",
      "        [ 2.6004,  1.1676,  2.0935,  1.0246,  0.6111, -0.1336],\n",
      "        [-0.4433,  0.4704, -0.3779, -2.1943,  1.3298, -0.9534]])\n",
      "(tensor([[ 0.4041,  0.2816, -1.3620, -0.4796, -0.6298, -0.1119],\n",
      "        [-0.1132,  0.4680, -0.9488, -2.3916, -0.2324,  0.1824]]), tensor([[ 2.6004,  1.1676,  2.0935,  1.0246,  0.6111, -0.1336],\n",
      "        [-0.4433,  0.4704, -0.3779, -2.1943,  1.3298, -0.9534]]))\n",
      "(tensor([[ 0.4041,  0.2816],\n",
      "        [-0.1132,  0.4680],\n",
      "        [ 2.6004,  1.1676],\n",
      "        [-0.4433,  0.4704]]), tensor([[-1.3620, -0.4796],\n",
      "        [-0.9488, -2.3916],\n",
      "        [ 2.0935,  1.0246],\n",
      "        [-0.3779, -2.1943]]), tensor([[-0.6298, -0.1119],\n",
      "        [-0.2324,  0.1824],\n",
      "        [ 0.6111, -0.1336],\n",
      "        [ 1.3298, -0.9534]]))\n"
     ]
    }
   ],
   "source": [
    "# A tensor can be split between multiple chunks\n",
    "a = T.randn(4, 6)\n",
    "print(a)\n",
    "# 0 means row, 1 column, default: 0\n",
    "print(T.chunk(a, 2, 0))\n",
    "print(T.chunk(a, 3, 1))"
   ]
  },
  {
   "cell_type": "code",
   "execution_count": 16,
   "metadata": {
    "ExecuteTime": {
     "end_time": "2023-03-15T05:22:03.461349Z",
     "start_time": "2023-03-15T05:22:03.445418Z"
    }
   },
   "outputs": [
    {
     "name": "stdout",
     "output_type": "stream",
     "text": [
      "tensor([[11., 11.],\n",
      "        [24., 23.]])\n"
     ]
    }
   ],
   "source": [
    "# The gather function collects elements from a tensor and places it in another tensor using an index argument.\n",
    "# The index position is determined by the LongTensor function in PyTorch.\n",
    "b = T.gather(T.Tensor([[11, 12], [23, 24]]), 1, T.LongTensor([[0, 0], [1, 0]]))\n",
    "print(b)"
   ]
  },
  {
   "cell_type": "code",
   "execution_count": 17,
   "metadata": {
    "ExecuteTime": {
     "end_time": "2023-03-15T05:22:04.184646Z",
     "start_time": "2023-03-15T05:22:04.160251Z"
    }
   },
   "outputs": [
    {
     "name": "stdout",
     "output_type": "stream",
     "text": [
      "tensor([[-0.2646, -0.8973,  0.6894, -0.0195],\n",
      "        [-0.1933,  2.3623, -0.6644,  0.5033],\n",
      "        [ 0.1891,  0.7503,  0.7995,  1.7826],\n",
      "        [-1.0849, -0.3725, -1.2520, -0.3625]])\n",
      "tensor([[-0.2646, -0.8973,  0.6894, -0.0195],\n",
      "        [ 0.1891,  0.7503,  0.7995,  1.7826]])\n",
      "tensor([[-0.2646,  0.6894],\n",
      "        [-0.1933, -0.6644],\n",
      "        [ 0.1891,  0.7995],\n",
      "        [-1.0849, -1.2520]])\n"
     ]
    }
   ],
   "source": [
    "# The LongTensor function or the index select function can be used to fetch relevant values from a tensor.\n",
    "c = T.randn(4, 4)\n",
    "print(c)\n",
    "indices = T.LongTensor([0, 2])\n",
    "print(T.index_select(c, 0, indices))\n",
    "print(T.index_select(c, 1, indices))"
   ]
  },
  {
   "cell_type": "code",
   "execution_count": 18,
   "metadata": {
    "ExecuteTime": {
     "end_time": "2023-03-15T05:22:04.905322Z",
     "start_time": "2023-03-15T05:22:04.897370Z"
    }
   },
   "outputs": [
    {
     "name": "stdout",
     "output_type": "stream",
     "text": [
      "tensor([[0],\n",
      "        [2],\n",
      "        [4]])\n"
     ]
    }
   ],
   "source": [
    "# identify non-zero elements in a tensor\n",
    "print(T.nonzero(T.Tensor([10, 0, 23, 0, 20, 0])))"
   ]
  },
  {
   "cell_type": "code",
   "execution_count": 19,
   "metadata": {
    "ExecuteTime": {
     "end_time": "2023-03-15T05:22:05.517841Z",
     "start_time": "2023-03-15T05:22:05.497144Z"
    }
   },
   "outputs": [
    {
     "name": "stdout",
     "output_type": "stream",
     "text": [
      "(tensor([12., 21.]), tensor([34., 32.]), tensor([45., 54.]), tensor([56., 65.]))\n",
      "(tensor([12., 21., 34.]), tensor([32., 45., 54.]), tensor([56., 65.]))\n"
     ]
    }
   ],
   "source": [
    "# splitting the tensor into small chunks\n",
    "print(T.split(T.Tensor([12, 21, 34, 32, 45, 54, 56, 65]), 2))\n",
    "print(T.split(T.Tensor([12, 21, 34, 32, 45, 54, 56, 65]), 3))"
   ]
  },
  {
   "cell_type": "code",
   "execution_count": 20,
   "metadata": {
    "ExecuteTime": {
     "end_time": "2023-03-15T05:22:06.052497Z",
     "start_time": "2023-03-15T05:22:06.037504Z"
    }
   },
   "outputs": [
    {
     "name": "stdout",
     "output_type": "stream",
     "text": [
      "tensor([[ 1.0061,  1.4701, -0.9887],\n",
      "        [-1.4675,  1.7748,  1.8624]])\n",
      "tensor([[ 1.0061, -1.4675],\n",
      "        [ 1.4701,  1.7748],\n",
      "        [-0.9887,  1.8624]])\n",
      "tensor([[ 1.0061, -1.4675],\n",
      "        [ 1.4701,  1.7748],\n",
      "        [-0.9887,  1.8624]])\n"
     ]
    }
   ],
   "source": [
    "# transpose\n",
    "e = T.randn(2, 3)\n",
    "print(e)\n",
    "print(e.t())\n",
    "print(e.transpose(1, 0))"
   ]
  },
  {
   "cell_type": "code",
   "execution_count": 21,
   "metadata": {
    "ExecuteTime": {
     "end_time": "2023-03-15T05:22:06.695075Z",
     "start_time": "2023-03-15T05:22:06.685103Z"
    }
   },
   "outputs": [
    {
     "name": "stdout",
     "output_type": "stream",
     "text": [
      "tensor([[ 0.1357,  0.6004,  2.0958],\n",
      "        [-2.0174, -0.4341, -0.3915]])\n",
      "(tensor([ 0.1357, -2.0174]), tensor([ 0.6004, -0.4341]), tensor([ 2.0958, -0.3915]))\n",
      "(tensor([0.1357, 0.6004, 2.0958]), tensor([-2.0174, -0.4341, -0.3915]))\n"
     ]
    }
   ],
   "source": [
    "# unbind:  removes a dimension from a tensor\n",
    "# 0 row, 1 column, default: 0\n",
    "f = T.randn(2, 3)\n",
    "print(f)\n",
    "print(T.unbind(f, 1))\n",
    "print(T.unbind(f, 0))"
   ]
  },
  {
   "cell_type": "code",
   "execution_count": 22,
   "metadata": {
    "ExecuteTime": {
     "end_time": "2023-03-15T05:22:07.685332Z",
     "start_time": "2023-03-15T05:22:07.665367Z"
    }
   },
   "outputs": [
    {
     "name": "stdout",
     "output_type": "stream",
     "text": [
      "tensor([[ 0.0461,  0.4024, -1.0115],\n",
      "        [ 0.2167, -0.6123,  0.5036]])\n"
     ]
    }
   ],
   "source": [
    "# math function\n",
    "T.manual_seed(1234)\n",
    "g = T.randn(2, 3)\n",
    "print(g)"
   ]
  },
  {
   "cell_type": "code",
   "execution_count": 23,
   "metadata": {
    "ExecuteTime": {
     "end_time": "2023-03-15T05:22:08.359264Z",
     "start_time": "2023-03-15T05:22:08.336325Z"
    }
   },
   "outputs": [
    {
     "data": {
      "text/plain": [
       "tensor([[20.0461, 20.4024, 18.9885],\n",
       "        [20.2167, 19.3877, 20.5036]])"
      ]
     },
     "execution_count": 23,
     "metadata": {},
     "output_type": "execute_result"
    }
   ],
   "source": [
    "# add function\n",
    "T.add(g, 20)"
   ]
  },
  {
   "cell_type": "code",
   "execution_count": 24,
   "metadata": {
    "ExecuteTime": {
     "end_time": "2023-03-15T05:22:09.143399Z",
     "start_time": "2023-03-15T05:22:09.128439Z"
    }
   },
   "outputs": [
    {
     "data": {
      "text/plain": [
       "tensor([[ 1.,  1., -1.],\n",
       "        [ 1., -0.,  1.]])"
      ]
     },
     "execution_count": 24,
     "metadata": {},
     "output_type": "execute_result"
    }
   ],
   "source": [
    "# ceil function\n",
    "T.ceil(g)"
   ]
  },
  {
   "cell_type": "code",
   "execution_count": 25,
   "metadata": {
    "ExecuteTime": {
     "end_time": "2023-03-15T05:22:09.694607Z",
     "start_time": "2023-03-15T05:22:09.683636Z"
    }
   },
   "outputs": [
    {
     "data": {
      "text/plain": [
       "tensor([[ 0.,  0., -2.],\n",
       "        [ 0., -1.,  0.]])"
      ]
     },
     "execution_count": 25,
     "metadata": {},
     "output_type": "execute_result"
    }
   ],
   "source": [
    "# floor function\n",
    "T.floor(g)"
   ]
  },
  {
   "cell_type": "code",
   "execution_count": 26,
   "metadata": {
    "ExecuteTime": {
     "end_time": "2023-03-15T05:22:10.169223Z",
     "start_time": "2023-03-15T05:22:10.144221Z"
    }
   },
   "outputs": [
    {
     "data": {
      "text/plain": [
       "tensor([[1.0472, 1.4954, 0.3637],\n",
       "        [1.2420, 0.5421, 1.6547]])"
      ]
     },
     "execution_count": 26,
     "metadata": {},
     "output_type": "execute_result"
    }
   ],
   "source": [
    "# exp function\n",
    "T.exp(g)"
   ]
  },
  {
   "cell_type": "code",
   "execution_count": 27,
   "metadata": {
    "ExecuteTime": {
     "end_time": "2023-03-15T05:22:10.638508Z",
     "start_time": "2023-03-15T05:22:10.621172Z"
    }
   },
   "outputs": [
    {
     "data": {
      "text/plain": [
       "tensor([[0.5115, 0.5993, 0.2667],\n",
       "        [0.5540, 0.3515, 0.6233]])"
      ]
     },
     "execution_count": 27,
     "metadata": {},
     "output_type": "execute_result"
    }
   ],
   "source": [
    "# sigmoid function\n",
    "T.sigmoid(g)"
   ]
  },
  {
   "cell_type": "code",
   "execution_count": 28,
   "metadata": {
    "ExecuteTime": {
     "end_time": "2023-03-15T05:22:11.329557Z",
     "start_time": "2023-03-15T05:22:11.313624Z"
    }
   },
   "outputs": [
    {
     "name": "stdout",
     "output_type": "stream",
     "text": [
      "tensor([[1., 2.],\n",
      "        [3., 4.],\n",
      "        [5., 6.]])\n",
      "tensor([[ 1.,  4.],\n",
      "        [ 9., 16.],\n",
      "        [25., 36.]])\n",
      "tensor([[ 1.,  4.],\n",
      "        [ 9., 16.],\n",
      "        [25., 36.]])\n"
     ]
    }
   ],
   "source": [
    "# 矩阵的点乘, x.mul(y) 或者 x * y\n",
    "h = T.FloatTensor([[1,2], [3,4], [5, 6]])\n",
    "print(h)\n",
    "print(h.mul(h))\n",
    "print(h * h)"
   ]
  },
  {
   "cell_type": "code",
   "execution_count": 29,
   "metadata": {
    "ExecuteTime": {
     "end_time": "2023-03-15T05:22:16.903692Z",
     "start_time": "2023-03-15T05:22:16.880747Z"
    }
   },
   "outputs": [
    {
     "name": "stdout",
     "output_type": "stream",
     "text": [
      "tensor([[ 5., 11., 17.],\n",
      "        [11., 25., 39.],\n",
      "        [17., 39., 61.]])\n"
     ]
    }
   ],
   "source": [
    "# 矩阵相乘, x.mm(y)\n",
    "print(h.mm(h.t()))"
   ]
  },
  {
   "cell_type": "code",
   "execution_count": 32,
   "metadata": {
    "ExecuteTime": {
     "end_time": "2023-03-15T05:22:58.315818Z",
     "start_time": "2023-03-15T05:22:58.299708Z"
    }
   },
   "outputs": [
    {
     "name": "stdout",
     "output_type": "stream",
     "text": [
      "tensor([1., 2.])\n",
      "torch.float32\n",
      "torch.float32\n",
      "tensor([1, 2])\n",
      "torch.int64\n"
     ]
    }
   ],
   "source": [
    "# 张量数据类型\n",
    "t1 = T.tensor([1, 2], dtype=T.float32)\n",
    "print(t1)\n",
    "print(t1.dtype)\n",
    "# 使用type()进行数据类型转换\n",
    "t2 = T.tensor([1, 2], dtype=T.float32)\n",
    "print(t2.dtype)\n",
    "# type()方法转换数据类型\n",
    "t2 = t2.type(T.int64)\n",
    "print(t2)\n",
    "print(t2.dtype)"
   ]
  },
  {
   "cell_type": "code",
   "execution_count": null,
   "metadata": {},
   "outputs": [],
   "source": []
  }
 ],
 "metadata": {
  "kernelspec": {
   "display_name": "Python 3",
   "language": "python",
   "name": "python3"
  },
  "language_info": {
   "codemirror_mode": {
    "name": "ipython",
    "version": 3
   },
   "file_extension": ".py",
   "mimetype": "text/x-python",
   "name": "python",
   "nbconvert_exporter": "python",
   "pygments_lexer": "ipython3",
   "version": "3.7.2"
  }
 },
 "nbformat": 4,
 "nbformat_minor": 2
}
